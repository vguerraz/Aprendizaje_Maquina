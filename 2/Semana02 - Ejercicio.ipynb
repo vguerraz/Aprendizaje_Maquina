{
  "cells": [
    {
      "cell_type": "markdown",
      "metadata": {
        "id": "s8rVHzjlKQc_"
      },
      "source": [
        "# Preprocesamiento de Datos - Ejemplo Práctico"
      ]
    },
    {
      "cell_type": "markdown",
      "metadata": {
        "id": "QnEMEIWNKQdC"
      },
      "source": [
        "En esta demostración se preprocesará un conjunto de datos de población estadounidense. Los datos utilizados son un subconjunto modificado de [este set de datos](https://archive.ics.uci.edu/ml/datasets/Adult) y se encuentran en el archivo `census.csv`."
      ]
    },
    {
      "cell_type": "code",
      "execution_count": 1,
      "metadata": {
        "id": "yc1OaWNSKQdC"
      },
      "outputs": [],
      "source": [
        "import pandas as pd"
      ]
    },
    {
      "cell_type": "code",
      "execution_count": 2,
      "metadata": {
        "id": "TVugcGmeKQdD"
      },
      "outputs": [],
      "source": [
        "# Importemos los datos:\n",
        "df = pd.read_csv('census.csv')\n"
      ]
    },
    {
      "cell_type": "code",
      "execution_count": null,
      "metadata": {
        "id": "nhDjnE2VKQdE"
      },
      "outputs": [],
      "source": [
        "# Veamos el dataset:\n"
      ]
    },
    {
      "cell_type": "code",
      "execution_count": null,
      "metadata": {
        "id": "TtkP_GdhKQdF"
      },
      "outputs": [],
      "source": [
        "# Descripción de las columnas:\n"
      ]
    },
    {
      "cell_type": "code",
      "execution_count": null,
      "metadata": {
        "id": "F52oYL-0KQdF"
      },
      "outputs": [],
      "source": [
        "# Verifiquemos si hay datos faltantes:\n"
      ]
    },
    {
      "cell_type": "code",
      "execution_count": null,
      "metadata": {
        "id": "oELVryAFKQdG"
      },
      "outputs": [],
      "source": [
        "# Descartemos las filas que tengan 3 o más datos faltantes:\n"
      ]
    },
    {
      "cell_type": "code",
      "execution_count": null,
      "metadata": {
        "id": "hdtT5hChKQdG"
      },
      "outputs": [],
      "source": [
        "# Contemos de nuevo los datos faltantes:\n"
      ]
    },
    {
      "cell_type": "code",
      "execution_count": null,
      "metadata": {
        "id": "jMjy5fXPKQdH"
      },
      "outputs": [],
      "source": [
        "# Imputemos los datos faltantes de edad y horas trabajadas por semana con la mediana de cada una de esas columnas:\n"
      ]
    },
    {
      "cell_type": "code",
      "execution_count": null,
      "metadata": {
        "id": "bGI3JuDxKQdH"
      },
      "outputs": [],
      "source": [
        "# Contemos de nuevo los datos faltantes:\n"
      ]
    },
    {
      "cell_type": "code",
      "execution_count": null,
      "metadata": {
        "id": "r-igPzINKQdI"
      },
      "outputs": [],
      "source": [
        "# Apliquemos one-hot encoding a la columna \"workclass\":\n"
      ]
    },
    {
      "cell_type": "code",
      "execution_count": null,
      "metadata": {
        "id": "pCHO1YHhKQdI"
      },
      "outputs": [],
      "source": [
        "# Hallemos los valores que toma la columna \"education\":\n"
      ]
    },
    {
      "cell_type": "code",
      "execution_count": null,
      "metadata": {
        "id": "e1M_SL3oKQdI"
      },
      "outputs": [],
      "source": [
        "# Apliquemos ordinal encoding a la columna \"education\":\n"
      ]
    },
    {
      "cell_type": "code",
      "execution_count": null,
      "metadata": {
        "id": "7yir-A1FKQdJ"
      },
      "outputs": [],
      "source": [
        "# Verifiquemos que la columna \"education\" tenga los valores apropiados:\n"
      ]
    },
    {
      "cell_type": "code",
      "execution_count": null,
      "metadata": {
        "id": "1a5IeYUfKQdJ"
      },
      "outputs": [],
      "source": [
        "# Apliquemos one-hot encoding a la columna \"race\":\n"
      ]
    },
    {
      "cell_type": "code",
      "execution_count": null,
      "metadata": {
        "id": "U_gDOpMQKQdJ"
      },
      "outputs": [],
      "source": [
        "# Apliquemos binary encoding a la columna \"sex\":\n"
      ]
    },
    {
      "cell_type": "code",
      "execution_count": null,
      "metadata": {
        "id": "lTqxp3fZKQdK"
      },
      "outputs": [],
      "source": [
        "# Apliquemos binary encoding a la etiqueta:\n"
      ]
    },
    {
      "cell_type": "code",
      "execution_count": null,
      "metadata": {
        "id": "sMRU3qrKKQdK"
      },
      "outputs": [],
      "source": [
        "# Veamos el dataset resultante:\n"
      ]
    },
    {
      "cell_type": "code",
      "execution_count": null,
      "metadata": {
        "id": "ObK6H67oKQdK"
      },
      "outputs": [],
      "source": [
        "# Veamos la nueva descripción del dataset:\n"
      ]
    },
    {
      "cell_type": "code",
      "execution_count": null,
      "metadata": {
        "id": "h0HVzXlGKQdL"
      },
      "outputs": [],
      "source": [
        "# Verifiquemos el tipo de dato de cada columna:\n"
      ]
    },
    {
      "cell_type": "code",
      "execution_count": null,
      "metadata": {
        "id": "06yo3fUBKQdL"
      },
      "outputs": [],
      "source": [
        "# Carguemos el dataset a un nuevo archivo:\n"
      ]
    }
  ],
  "metadata": {
    "colab": {
      "provenance": []
    },
    "kernelspec": {
      "display_name": ".venv",
      "language": "python",
      "name": "python3"
    },
    "language_info": {
      "codemirror_mode": {
        "name": "ipython",
        "version": 3
      },
      "file_extension": ".py",
      "mimetype": "text/x-python",
      "name": "python",
      "nbconvert_exporter": "python",
      "pygments_lexer": "ipython3",
      "version": "3.10.12"
    },
    "notify_time": "5",
    "varInspector": {
      "cols": {
        "lenName": 16,
        "lenType": 16,
        "lenVar": 40
      },
      "kernels_config": {
        "python": {
          "delete_cmd_postfix": "",
          "delete_cmd_prefix": "del ",
          "library": "var_list.py",
          "varRefreshCmd": "print(var_dic_list())"
        },
        "r": {
          "delete_cmd_postfix": ") ",
          "delete_cmd_prefix": "rm(",
          "library": "var_list.r",
          "varRefreshCmd": "cat(var_dic_list()) "
        }
      },
      "types_to_exclude": [
        "module",
        "function",
        "builtin_function_or_method",
        "instance",
        "_Feature"
      ],
      "window_display": false
    }
  },
  "nbformat": 4,
  "nbformat_minor": 0
}
