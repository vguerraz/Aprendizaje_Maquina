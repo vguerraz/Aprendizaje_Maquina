{
 "cells": [
  {
   "cell_type": "markdown",
   "metadata": {},
   "source": [
    "# Random Forest para Regresión"
   ]
  },
  {
   "cell_type": "markdown",
   "metadata": {},
   "source": [
    "## Importar Librerias"
   ]
  },
  {
   "cell_type": "code",
   "execution_count": null,
   "metadata": {},
   "outputs": [],
   "source": [
    "from sklearn.datasets import make_regression\n",
    "from sklearn.model_selection import train_test_split\n",
    "from sklearn.ensemble import RandomForestRegressor\n",
    "from sklearn.metrics import mean_squared_error, r2_score, mean_absolute_error\n",
    "import matplotlib.pyplot as plt\n",
    "import numpy as np\n",
    "from sklearn.pipeline import Pipeline"
   ]
  },
  {
   "cell_type": "markdown",
   "metadata": {},
   "source": [
    "## Generar un dataset sintético\n",
    "Datos artificiales que simulan problemas de clasificación.\n",
    "\n",
    "- n_samples=100: Genera 100 ejemplos (filas).\n",
    "- n_features=1: Cada ejemplo tiene 1 sola característica (columna).\n",
    "- noise=15: Agrega ruido gaussiano (error) al valor de salida y. Esto simula datos reales con imprecisiones.\n",
    "- random_state=42: Fija la semilla aleatoria para que los datos generados sean siempre los mismos (reproducibilidad).\n"
   ]
  },
  {
   "cell_type": "code",
   "execution_count": null,
   "metadata": {},
   "outputs": [],
   "source": [
    "# Generar 100 muestras de 1 caracteristica. incluir ruido.\n",
    "X, y = make_regression(n_samples=100, n_features=1, noise=15, random_state=42)"
   ]
  },
  {
   "cell_type": "markdown",
   "metadata": {},
   "source": [
    "## Visualización de los datos"
   ]
  },
  {
   "cell_type": "code",
   "execution_count": null,
   "metadata": {},
   "outputs": [],
   "source": [
    "plt.scatter(X, y)\n",
    "plt.title(\"Datos sintéticos para regresión\")\n",
    "plt.xlabel(\"X (característica)\")\n",
    "plt.ylabel(\"y (valor objetivo)\")\n",
    "plt.show()"
   ]
  },
  {
   "cell_type": "markdown",
   "metadata": {},
   "source": [
    "# Dividir en entrenamiento y prueba"
   ]
  },
  {
   "cell_type": "code",
   "execution_count": null,
   "metadata": {},
   "outputs": [],
   "source": [
    "X_train, X_test, y_train, y_test = train_test_split(X, y, test_size=0.3, random_state=42)"
   ]
  },
  {
   "cell_type": "markdown",
   "metadata": {},
   "source": [
    "## Establecer el Pipeline de estandarización y clasificación"
   ]
  },
  {
   "cell_type": "code",
   "execution_count": null,
   "metadata": {},
   "outputs": [],
   "source": [
    "pipe = Pipeline([\n",
    "    ('decisionTree', RandomForestRegressor(n_estimators=100, max_depth=6, random_state=42))\n",
    "])"
   ]
  },
  {
   "cell_type": "markdown",
   "metadata": {},
   "source": [
    "## Entrenar el modelo"
   ]
  },
  {
   "cell_type": "code",
   "execution_count": null,
   "metadata": {},
   "outputs": [],
   "source": [
    "pipe.fit(X_train, y_train)"
   ]
  },
  {
   "cell_type": "markdown",
   "metadata": {},
   "source": [
    "## Evaluar"
   ]
  },
  {
   "cell_type": "code",
   "execution_count": null,
   "metadata": {},
   "outputs": [],
   "source": [
    "y_pred = pipe.predict(X_test)\n",
    "print(\"Error absoluto medio (MAE):\", mean_absolute_error(y_test, y_pred))\n",
    "print(\"Error cuadrático medio (MSE):\", mean_squared_error(y_test, y_pred))\n",
    "print(\"Coeficiente R2:\", r2_score(y_test, y_pred))"
   ]
  },
  {
   "cell_type": "markdown",
   "metadata": {},
   "source": [
    "## Visualización de la curva de predicción"
   ]
  },
  {
   "cell_type": "code",
   "execution_count": null,
   "metadata": {},
   "outputs": [],
   "source": [
    "X_plot = np.linspace(X.min(), X.max(), 300).reshape(-1, 1)\n",
    "y_plot = pipe.predict(X_plot)\n",
    "\n",
    "plt.figure(figsize=(10,6))\n",
    "plt.scatter(X, y, color='gray', label='Datos reales')\n",
    "plt.plot(X_plot, y_plot, color='orange', label='Random Forest Regresión')\n",
    "plt.title(\"Regresión con Random Forest\")\n",
    "plt.xlabel(\"Característica\")\n",
    "plt.ylabel(\"Valor objetivo\")\n",
    "plt.legend()\n",
    "plt.grid(True)\n",
    "plt.show()"
   ]
  },
  {
   "cell_type": "markdown",
   "metadata": {},
   "source": [
    "## Visualización del vecindario para un ejemplo."
   ]
  },
  {
   "cell_type": "code",
   "execution_count": null,
   "metadata": {},
   "outputs": [],
   "source": [
    "index = 0 \n",
    "punto_test = X_test[index].reshape(1, -1)\n",
    "distancias = np.linalg.norm(X_train - punto_test, axis=1)\n",
    "indices_vecinos = distancias.argsort()[:5] \n",
    "punto_predicho = pipe.predict(X_test[index].reshape(1, -1))[0]"
   ]
  },
  {
   "cell_type": "code",
   "execution_count": null,
   "metadata": {},
   "outputs": [],
   "source": [
    "plt.figure(figsize=(8,6))\n",
    "plt.scatter(X_train, y_train, color='blue', label='Entrenamiento')\n",
    "plt.scatter(X_test[index], y_test[index], color='black', marker='X', s=100, label='Punto a predecir')\n",
    "plt.scatter(X_test[index], punto_predicho, color='limegreen', marker='o', s=100, label='Predicción randomForest')\n",
    "for i in indices_vecinos:\n",
    "    plt.scatter(X_train[i], y_train[i], edgecolor='red', facecolor='none', s=100, linewidth=2, label='Vecino cercano' if i == indices_vecinos[0] else \"\")\n",
    "plt.title(\"Vecindario randomForest para regresión\")\n",
    "plt.xlabel(\"Característica\")\n",
    "plt.ylabel(\"Valor objetivo\")\n",
    "plt.legend()\n",
    "plt.grid(True)\n",
    "plt.show()"
   ]
  },
  {
   "cell_type": "markdown",
   "metadata": {},
   "source": [
    "## Ejercicios\n",
    "- Probar con diferentes cantidades de árboles (n_estimators)."
   ]
  }
 ],
 "metadata": {
  "kernelspec": {
   "display_name": ".venv",
   "language": "python",
   "name": "python3"
  },
  "language_info": {
   "codemirror_mode": {
    "name": "ipython",
    "version": 3
   },
   "file_extension": ".py",
   "mimetype": "text/x-python",
   "name": "python",
   "nbconvert_exporter": "python",
   "pygments_lexer": "ipython3",
   "version": "3.10.12"
  }
 },
 "nbformat": 4,
 "nbformat_minor": 2
}
